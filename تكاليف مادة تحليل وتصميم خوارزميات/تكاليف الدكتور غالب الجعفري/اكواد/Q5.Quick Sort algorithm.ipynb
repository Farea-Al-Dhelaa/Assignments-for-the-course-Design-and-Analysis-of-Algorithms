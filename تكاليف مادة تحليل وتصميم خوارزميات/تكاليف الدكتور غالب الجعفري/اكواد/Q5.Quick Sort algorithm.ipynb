{
 "cells": [
  {
   "cell_type": "markdown",
   "metadata": {},
   "source": [
    "Q4.heapify algorithms as code max heap"
   ]
  },
  {
   "cell_type": "code",
   "execution_count": 4,
   "metadata": {},
   "outputs": [
    {
     "name": "stdout",
     "output_type": "stream",
     "text": [
      "Max Heap: [13, 11, 12, 5, 6, 7]\n"
     ]
    }
   ],
   "source": [
    "def heapify(arr, n, i):\n",
    "    largest = i  # Initialize the largest element as the root\n",
    "    left = 2 * i + 1  # Index of the left child\n",
    "    right = 2 * i + 2  # Index of the right child\n",
    "\n",
    "    # Check if the left child exists and is greater than the root\n",
    "    if left < n and arr[left] > arr[largest]:\n",
    "        largest = left\n",
    "\n",
    "    # Check if the right child exists and is greater than the largest element so far\n",
    "    if right < n and arr[right] > arr[largest]:\n",
    "        largest = right\n",
    "\n",
    "    # If the largest element is not the root, swap them and recursively heapify the affected subtree\n",
    "    if largest != i:\n",
    "        arr[i], arr[largest] = arr[largest], arr[i]\n",
    "        heapify(arr, n, largest)\n",
    "\n",
    "\n",
    "# Example usage:\n",
    "arr = [12, 11, 13, 5, 6, 7]\n",
    "n = len(arr)\n",
    "\n",
    "# Build a max heap\n",
    "for i in range(n // 2 - 1, -1, -1):\n",
    "    heapify(arr, n, i)\n",
    "\n",
    "print(\"Max Heap:\", arr)"
   ]
  },
  {
   "cell_type": "markdown",
   "metadata": {},
   "source": [
    "Q4.heapify algorithms as code min heap"
   ]
  },
  {
   "cell_type": "markdown",
   "metadata": {},
   "source": [
    "Q5.Quick Sort algorithm using a loop instead of recursive"
   ]
  },
  {
   "cell_type": "code",
   "execution_count": 6,
   "metadata": {},
   "outputs": [
    {
     "name": "stdout",
     "output_type": "stream",
     "text": [
      "[1, 2, 3, 5, 8]\n"
     ]
    }
   ],
   "source": [
    "def quick_sort(arr):\n",
    "    stack = []\n",
    "    stack.append((0, len(arr) - 1))\n",
    "\n",
    "    while stack:\n",
    "        start, end = stack.pop()\n",
    "        if start >= end:\n",
    "            continue\n",
    "\n",
    "        pivot = partition(arr, start, end)\n",
    "        stack.append((start, pivot - 1))\n",
    "        stack.append((pivot + 1, end))\n",
    "\n",
    "def partition(arr, start, end):\n",
    "    pivot = arr[end]\n",
    "    i = start - 1\n",
    "\n",
    "    for j in range(start, end):\n",
    "        if arr[j] <= pivot:\n",
    "            i = i + 1\n",
    "            arr[i], arr[j] = arr[j], arr[i]\n",
    "\n",
    "    arr[i + 1], arr[end] = arr[end], arr[i + 1]\n",
    "    return i + 1\n",
    "\n",
    "# Example usage:\n",
    "arr = [5, 2, 8, 1, 3]\n",
    "quick_sort(arr)\n",
    "print(arr)"
   ]
  }
 ],
 "metadata": {
  "kernelspec": {
   "display_name": "Python 3",
   "language": "python",
   "name": "python3"
  },
  "language_info": {
   "codemirror_mode": {
    "name": "ipython",
    "version": 3
   },
   "file_extension": ".py",
   "mimetype": "text/x-python",
   "name": "python",
   "nbconvert_exporter": "python",
   "pygments_lexer": "ipython3",
   "version": "3.10.7"
  }
 },
 "nbformat": 4,
 "nbformat_minor": 2
}
