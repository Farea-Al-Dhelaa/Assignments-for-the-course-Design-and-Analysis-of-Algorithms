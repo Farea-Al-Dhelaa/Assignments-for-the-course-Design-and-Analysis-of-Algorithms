{
 "cells": [
  {
   "cell_type": "markdown",
   "metadata": {},
   "source": [
    "Q4.heapify algorithms as code max heap"
   ]
  },
  {
   "cell_type": "code",
   "execution_count": 4,
   "metadata": {},
   "outputs": [
    {
     "name": "stdout",
     "output_type": "stream",
     "text": [
      "Max Heap: [13, 11, 12, 5, 6, 7]\n"
     ]
    }
   ],
   "source": [
    "def heapify(arr, n, i):\n",
    "    largest = i  # Initialize the largest element as the root\n",
    "    left = 2 * i + 1  # Index of the left child\n",
    "    right = 2 * i + 2  # Index of the right child\n",
    "\n",
    "    # Check if the left child exists and is greater than the root\n",
    "    if left < n and arr[left] > arr[largest]:\n",
    "        largest = left\n",
    "\n",
    "    # Check if the right child exists and is greater than the largest element so far\n",
    "    if right < n and arr[right] > arr[largest]:\n",
    "        largest = right\n",
    "\n",
    "    # If the largest element is not the root, swap them and recursively heapify the affected subtree\n",
    "    if largest != i:\n",
    "        arr[i], arr[largest] = arr[largest], arr[i]\n",
    "        heapify(arr, n, largest)\n",
    "\n",
    "\n",
    "# Example usage:\n",
    "arr = [12, 11, 13, 5, 6, 7]\n",
    "n = len(arr)\n",
    "\n",
    "# Build a max heap\n",
    "for i in range(n // 2 - 1, -1, -1):\n",
    "    heapify(arr, n, i)\n",
    "\n",
    "print(\"Max Heap:\", arr)"
   ]
  },
  {
   "cell_type": "markdown",
   "metadata": {},
   "source": [
    "Q4.heapify algorithms as code min heap"
   ]
  },
  {
   "cell_type": "code",
   "execution_count": 5,
   "metadata": {},
   "outputs": [
    {
     "name": "stdout",
     "output_type": "stream",
     "text": [
      "Min Heap: [1, 2, 6, 4, 9, 7]\n"
     ]
    }
   ],
   "source": [
    "def heapify(arr, n, i):\n",
    "    smallest = i  # Initialize the smallest element as the root\n",
    "    left = 2 * i + 1  # Index of the left child\n",
    "    right = 2 * i + 2  # Index of the right child\n",
    "\n",
    "    # Check if the left child exists and is smaller than the root\n",
    "    if left < n and arr[left] < arr[smallest]:\n",
    "        smallest = left\n",
    "\n",
    "    # Check if the right child exists and is smaller than the smallest element so far\n",
    "    if right < n and arr[right] < arr[smallest]:\n",
    "        smallest = right\n",
    "\n",
    "    # If the smallest element is not the root, swap them and recursively heapify the affected subtree\n",
    "    if smallest != i:\n",
    "        arr[i], arr[smallest] = arr[smallest], arr[i]\n",
    "        heapify(arr, n, smallest)\n",
    "\n",
    "\n",
    "# Example usage:\n",
    "arr = [9, 4, 7, 1, 2, 6]\n",
    "n = len(arr)\n",
    "\n",
    "# Build a min heap\n",
    "for i in range(n // 2 - 1, -1, -1):\n",
    "    heapify(arr, n, i)\n",
    "\n",
    "print(\"Min Heap:\", arr)"
   ]
  }
 ],
 "metadata": {
  "kernelspec": {
   "display_name": "Python 3",
   "language": "python",
   "name": "python3"
  },
  "language_info": {
   "codemirror_mode": {
    "name": "ipython",
    "version": 3
   },
   "file_extension": ".py",
   "mimetype": "text/x-python",
   "name": "python",
   "nbconvert_exporter": "python",
   "pygments_lexer": "ipython3",
   "version": "3.10.7"
  }
 },
 "nbformat": 4,
 "nbformat_minor": 2
}
