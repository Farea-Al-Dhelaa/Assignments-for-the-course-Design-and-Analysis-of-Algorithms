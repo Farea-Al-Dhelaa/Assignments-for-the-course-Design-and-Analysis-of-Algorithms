{
 "cells": [
  {
   "cell_type": "code",
   "execution_count": 1,
   "metadata": {},
   "outputs": [
    {
     "name": "stdout",
     "output_type": "stream",
     "text": [
      "[1, 2, 4, 3, 5, 7]\n"
     ]
    }
   ],
   "source": [
    "from heapq import merge\n",
    "\n",
    "def MergeSort(A):\n",
    "    n = len(A)  # Length of the array\n",
    "\n",
    "    # Create a stack to store the subarray ranges\n",
    "    stack = []\n",
    "    \n",
    "    # Push the initial range onto the stack\n",
    "    stack.append((0, n - 1))\n",
    "\n",
    "    while stack:\n",
    "        left, right = stack.pop()\n",
    "        \n",
    "        if left < right:\n",
    "            mid = (left + right) // 2\n",
    "            \n",
    "            # Push the left and right subarray ranges onto the stack\n",
    "            stack.append((mid + 1, right))\n",
    "            stack.append((left, mid))\n",
    "            \n",
    "            # Merge the subarrays\n",
    "            subarray = A[left:right+1]\n",
    "            sorted_subarray = list(merge(subarray[:mid-left+1], subarray[mid-left+1:]))\n",
    "            A[left:right+1] = sorted_subarray\n",
    "\n",
    "A = [4, 2, 7, 1, 5, 3]\n",
    "MergeSort(A)\n",
    "print(A)"
   ]
  }
 ],
 "metadata": {
  "kernelspec": {
   "display_name": "Python 3",
   "language": "python",
   "name": "python3"
  },
  "language_info": {
   "codemirror_mode": {
    "name": "ipython",
    "version": 3
   },
   "file_extension": ".py",
   "mimetype": "text/x-python",
   "name": "python",
   "nbconvert_exporter": "python",
   "pygments_lexer": "ipython3",
   "version": "3.10.7"
  }
 },
 "nbformat": 4,
 "nbformat_minor": 2
}
